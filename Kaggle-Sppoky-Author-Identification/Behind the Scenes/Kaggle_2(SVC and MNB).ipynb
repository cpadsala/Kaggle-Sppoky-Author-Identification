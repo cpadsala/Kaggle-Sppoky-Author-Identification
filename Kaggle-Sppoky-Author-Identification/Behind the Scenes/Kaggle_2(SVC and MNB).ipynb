{
 "cells": [
  {
   "cell_type": "code",
   "execution_count": 1,
   "metadata": {
    "collapsed": true
   },
   "outputs": [],
   "source": [
    "import csv\n",
    "import pandas as pd\n",
    "import numpy as np\n",
    "from sklearn.feature_extraction.text import TfidfVectorizer\n",
    "from sklearn.naive_bayes import MultinomialNB\n",
    "from sklearn import preprocessing"
   ]
  },
  {
   "cell_type": "code",
   "execution_count": 2,
   "metadata": {
    "collapsed": true
   },
   "outputs": [],
   "source": [
    "train_data = pd.read_csv(\"train.csv\", sep=\",\", header=None)\n",
    "test_data = pd.read_csv(\"test.csv\", sep=\",\", header=None)\n",
    "\n",
    "X_train = train_data[1]\n",
    "labels_name = train_data[2]\n",
    "X_test = test_data[1]\n",
    "\n",
    "le = preprocessing.LabelEncoder()\n",
    "le.fit(labels_name)\n",
    "list(le.classes_)\n",
    "\n",
    "y_train = le.transform(labels_name)\n",
    "\n",
    "\n",
    "\n",
    "tfidf_clf = TfidfVectorizer()\n",
    "t_X_train = tfidf_clf.fit_transform(X_train)\n",
    "t_X_test = tfidf_clf.transform(X_test)"
   ]
  },
  {
   "cell_type": "code",
   "execution_count": 3,
   "metadata": {
    "collapsed": true
   },
   "outputs": [],
   "source": [
    "clf_MNB = MultinomialNB(alpha=0.085)"
   ]
  },
  {
   "cell_type": "code",
   "execution_count": 4,
   "metadata": {},
   "outputs": [
    {
     "data": {
      "text/plain": [
       "MultinomialNB(alpha=0.085, class_prior=None, fit_prior=True)"
      ]
     },
     "execution_count": 4,
     "metadata": {},
     "output_type": "execute_result"
    }
   ],
   "source": [
    "clf_MNB.fit(t_X_train, y_train)"
   ]
  },
  {
   "cell_type": "code",
   "execution_count": 5,
   "metadata": {
    "collapsed": true
   },
   "outputs": [],
   "source": [
    "pred = clf_MNB.predict_proba(t_X_test)"
   ]
  },
  {
   "cell_type": "code",
   "execution_count": 6,
   "metadata": {
    "collapsed": true
   },
   "outputs": [],
   "source": [
    "predc = clf_MNB.predict(t_X_test)"
   ]
  },
  {
   "cell_type": "code",
   "execution_count": 21,
   "metadata": {
    "collapsed": true
   },
   "outputs": [],
   "source": [
    "text_id = pd.DataFrame(test_data[0])\n",
    "\n",
    "proba = pd.DataFrame(pred)\n",
    "\n",
    "proba = proba.rename(columns={0:'EAP',1:'HPL',2:'MWS'})\n",
    "text_id = text_id.rename(columns={0:'id'})\n",
    "\n",
    "output = pd.concat([text_id,proba],axis=1)\n",
    "\n",
    "output.to_csv('submission.csv', sep=',', index=False)"
   ]
  },
  {
   "cell_type": "code",
   "execution_count": 7,
   "metadata": {},
   "outputs": [
    {
     "name": "stdout",
     "output_type": "stream",
     "text": [
      "[2 0 1 ..., 0 2 1]\n"
     ]
    }
   ],
   "source": [
    "print (predc)"
   ]
  },
  {
   "cell_type": "code",
   "execution_count": 8,
   "metadata": {
    "collapsed": true
   },
   "outputs": [],
   "source": [
    "predc= le.inverse_transform(predc)"
   ]
  },
  {
   "cell_type": "code",
   "execution_count": 9,
   "metadata": {},
   "outputs": [
    {
     "name": "stdout",
     "output_type": "stream",
     "text": [
      "['MWS' 'EAP' 'HPL' ..., 'EAP' 'MWS' 'HPL']\n"
     ]
    }
   ],
   "source": [
    "print (predc)"
   ]
  },
  {
   "cell_type": "code",
   "execution_count": 15,
   "metadata": {
    "collapsed": true
   },
   "outputs": [],
   "source": [
    "from collections import Counter"
   ]
  },
  {
   "cell_type": "code",
   "execution_count": 22,
   "metadata": {
    "collapsed": true
   },
   "outputs": [],
   "source": [
    "predc = np.asarray(predc)"
   ]
  },
  {
   "cell_type": "code",
   "execution_count": 23,
   "metadata": {},
   "outputs": [
    {
     "data": {
      "text/plain": [
       "Counter({'EAP': 3487, 'HPL': 2245, 'MWS': 2660})"
      ]
     },
     "execution_count": 23,
     "metadata": {},
     "output_type": "execute_result"
    }
   ],
   "source": [
    "Counter(predc)"
   ]
  },
  {
   "cell_type": "code",
   "execution_count": 26,
   "metadata": {},
   "outputs": [
    {
     "data": {
      "text/plain": [
       "Counter({'EAP': 7900, 'HPL': 5635, 'MWS': 6044})"
      ]
     },
     "execution_count": 26,
     "metadata": {},
     "output_type": "execute_result"
    }
   ],
   "source": [
    "Counter(np.asarray(labels_name))"
   ]
  },
  {
   "cell_type": "code",
   "execution_count": 3,
   "metadata": {
    "collapsed": true
   },
   "outputs": [],
   "source": [
    "import csv\n",
    "import pandas as pd\n",
    "import numpy as np\n",
    "from sklearn.feature_extraction.text import TfidfVectorizer\n",
    "from sklearn.svm import SVC\n",
    "from sklearn import preprocessing\n",
    "from sklearn.model_selection import GridSearchCV\n",
    "\n",
    "train_data = pd.read_csv(\"train.csv\", sep=\",\", header=None)\n",
    "test_data = pd.read_csv(\"test.csv\", sep=\",\", header=None)\n",
    "\n",
    "X_train = train_data[1]\n",
    "labels_name = train_data[2]\n",
    "X_test = test_data[1]\n",
    "\n",
    "le = preprocessing.LabelEncoder()\n",
    "le.fit(labels_name)\n",
    "list(le.classes_)\n",
    "\n",
    "y_train = le.transform(labels_name)\n",
    "\n",
    "\n",
    "\n",
    "tfidf_clf = TfidfVectorizer()\n",
    "t_X_train = tfidf_clf.fit_transform(X_train)\n",
    "t_X_test = tfidf_clf.transform(X_test)\n",
    "\n"
   ]
  },
  {
   "cell_type": "code",
   "execution_count": 8,
   "metadata": {},
   "outputs": [
    {
     "data": {
      "text/plain": [
       "GridSearchCV(cv=None, error_score='raise',\n",
       "       estimator=SVC(C=1, cache_size=10000, class_weight=None, coef0=0.0,\n",
       "  decision_function_shape=None, degree=1, gamma='auto', kernel='linear',\n",
       "  max_iter=-1, probability=True, random_state=None, shrinking=True,\n",
       "  tol=0.001, verbose=False),\n",
       "       fit_params={}, iid=True, n_jobs=-1, param_grid={'C': [1]},\n",
       "       pre_dispatch='2*n_jobs', refit=True, return_train_score=True,\n",
       "       scoring=None, verbose=0)"
      ]
     },
     "execution_count": 8,
     "metadata": {},
     "output_type": "execute_result"
    }
   ],
   "source": [
    "svc_clf = SVC(kernel='linear', C=1, degree=1, probability=True, cache_size=10000)\n",
    "\n",
    "clf_gs = GridSearchCV(svc_clf, n_jobs=-1, param_grid={'C':[1]})\n",
    "\n",
    "clf_gs.fit(t_X_train, y_train)"
   ]
  },
  {
   "cell_type": "code",
   "execution_count": 9,
   "metadata": {
    "collapsed": true
   },
   "outputs": [],
   "source": [
    "gs_pred = clf_gs.predict_proba(t_X_test)"
   ]
  },
  {
   "cell_type": "code",
   "execution_count": 10,
   "metadata": {
    "collapsed": true
   },
   "outputs": [],
   "source": [
    "text_id = pd.DataFrame(test_data[0])\n",
    "\n",
    "proba = pd.DataFrame(gs_pred)\n",
    "\n",
    "proba = proba.rename(columns={0:'EAP',1:'HPL',2:'MWS'})\n",
    "text_id = text_id.rename(columns={0:'id'})\n",
    "\n",
    "output = pd.concat([text_id,proba],axis=1)\n",
    "\n",
    "output.to_csv('submission.csv', sep=',', index=False)"
   ]
  },
  {
   "cell_type": "code",
   "execution_count": null,
   "metadata": {
    "collapsed": true
   },
   "outputs": [],
   "source": []
  }
 ],
 "metadata": {
  "kernelspec": {
   "display_name": "Python 3",
   "language": "python",
   "name": "python3"
  },
  "language_info": {
   "codemirror_mode": {
    "name": "ipython",
    "version": 3
   },
   "file_extension": ".py",
   "mimetype": "text/x-python",
   "name": "python",
   "nbconvert_exporter": "python",
   "pygments_lexer": "ipython3",
   "version": "3.6.1"
  }
 },
 "nbformat": 4,
 "nbformat_minor": 2
}
