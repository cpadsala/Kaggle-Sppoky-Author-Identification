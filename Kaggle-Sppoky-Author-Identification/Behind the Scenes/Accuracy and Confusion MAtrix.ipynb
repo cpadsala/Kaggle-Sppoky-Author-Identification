{
 "cells": [
  {
   "cell_type": "code",
   "execution_count": 16,
   "metadata": {
    "collapsed": true
   },
   "outputs": [],
   "source": [
    "from time import time\n",
    "import csv\n",
    "import pandas as pd\n",
    "import numpy as np\n",
    "from sklearn import preprocessing\n",
    "from sklearn.naive_bayes import MultinomialNB\n",
    "from sklearn.feature_extraction.text import TfidfVectorizer\n",
    "from sklearn.model_selection import train_test_split\n",
    "from sklearn.model_selection import cross_val_score\n",
    "from sklearn.ensemble import RandomForestClassifier\n",
    "from sklearn.ensemble import AdaBoostClassifier\n",
    "from xgboost import XGBClassifier\n",
    "from sklearn import tree\n",
    "from sklearn.model_selection import GridSearchCV\n",
    "from sklearn import metrics\n",
    "from sklearn.svm import SVC\n",
    "import matplotlib.pyplot as plt"
   ]
  },
  {
   "cell_type": "code",
   "execution_count": 17,
   "metadata": {
    "collapsed": true
   },
   "outputs": [],
   "source": [
    "data = pd.read_csv(\"train.csv\", sep=\",\", header=None)\n",
    "data2 = pd.read_csv(\"test.csv\", sep=\",\", header=None)"
   ]
  },
  {
   "cell_type": "code",
   "execution_count": 18,
   "metadata": {},
   "outputs": [
    {
     "name": "stdout",
     "output_type": "stream",
     "text": [
      "         0                                                  1    2\n",
      "0  id26305  This process, however, afforded me no means of...  EAP\n",
      "1  id17569  It never once occurred to me that the fumbling...  HPL\n"
     ]
    }
   ],
   "source": [
    "print (data[:2])"
   ]
  },
  {
   "cell_type": "code",
   "execution_count": 19,
   "metadata": {},
   "outputs": [
    {
     "name": "stdout",
     "output_type": "stream",
     "text": [
      "0    Still, as I urged our leaving Ireland with suc...\n",
      "1    If a fire wanted fanning, it could readily be ...\n",
      "Name: 1, dtype: object\n"
     ]
    }
   ],
   "source": [
    "X_train = data[1]\n",
    "X_test = data2[1]\n",
    "print (X_test[:2])"
   ]
  },
  {
   "cell_type": "code",
   "execution_count": 20,
   "metadata": {},
   "outputs": [
    {
     "name": "stdout",
     "output_type": "stream",
     "text": [
      "['EAP' 'HPL' 'EAP' 'MWS' 'HPL' 'MWS']\n",
      "[0 1 2]\n"
     ]
    }
   ],
   "source": [
    "labels_name = np.array(data[2]) \n",
    "print (labels_name[:6])\n",
    "le = preprocessing.LabelEncoder()\n",
    "y_train = le.fit_transform(labels_name)\n",
    "labels = le.transform(le.classes_)\n",
    "print (labels)"
   ]
  },
  {
   "cell_type": "code",
   "execution_count": 21,
   "metadata": {},
   "outputs": [
    {
     "name": "stdout",
     "output_type": "stream",
     "text": [
      "['EAP' 'HPL' 'MWS']\n"
     ]
    },
    {
     "data": {
      "text/plain": [
       "['EAP', 'HPL', 'EAP', 'MWS']"
      ]
     },
     "execution_count": 21,
     "metadata": {},
     "output_type": "execute_result"
    }
   ],
   "source": [
    "y_train = le.transform(labels_name)\n",
    "print (le.classes_)\n",
    "list(le.inverse_transform(y_train[:4]))\n"
   ]
  },
  {
   "cell_type": "code",
   "execution_count": 22,
   "metadata": {
    "collapsed": true
   },
   "outputs": [],
   "source": [
    "cv_X_train, cv_X_val, cv_y_train, cv_y_val = train_test_split(X_train, y_train, test_size=0.20, random_state=0)"
   ]
  },
  {
   "cell_type": "code",
   "execution_count": 23,
   "metadata": {
    "collapsed": true
   },
   "outputs": [],
   "source": [
    "tfidf_clf = TfidfVectorizer(ngram_range=(1,2), stop_words='english')"
   ]
  },
  {
   "cell_type": "code",
   "execution_count": 24,
   "metadata": {
    "collapsed": true
   },
   "outputs": [],
   "source": [
    "t_X_train = tfidf_clf.fit_transform(cv_X_train)\n",
    "t_X_val = tfidf_clf.transform(cv_X_val)"
   ]
  },
  {
   "cell_type": "code",
   "execution_count": 25,
   "metadata": {},
   "outputs": [
    {
     "name": "stdout",
     "output_type": "stream",
     "text": [
      "set()\n",
      "174935\n"
     ]
    }
   ],
   "source": [
    "print (tfidf_clf.stop_words_)\n",
    "print (len(tfidf_clf.vocabulary_))"
   ]
  },
  {
   "cell_type": "code",
   "execution_count": 341,
   "metadata": {
    "collapsed": true
   },
   "outputs": [],
   "source": [
    "clf_MNB = MultinomialNB(alpha=.1)"
   ]
  },
  {
   "cell_type": "code",
   "execution_count": 342,
   "metadata": {},
   "outputs": [
    {
     "data": {
      "text/plain": [
       "MultinomialNB(alpha=0.1, class_prior=None, fit_prior=True)"
      ]
     },
     "execution_count": 342,
     "metadata": {},
     "output_type": "execute_result"
    }
   ],
   "source": [
    "clf_MNB.fit(t_X_train, cv_y_train)"
   ]
  },
  {
   "cell_type": "code",
   "execution_count": 347,
   "metadata": {
    "collapsed": true
   },
   "outputs": [],
   "source": [
    "mnb_pred = clf_MNB.predict(t_X_val)"
   ]
  },
  {
   "cell_type": "code",
   "execution_count": 348,
   "metadata": {},
   "outputs": [
    {
     "name": "stdout",
     "output_type": "stream",
     "text": [
      "0.846527068437\n"
     ]
    }
   ],
   "source": [
    "mnb_mean = np.mean(pred == cv_y_val)\n",
    "print (mnb_mean)"
   ]
  },
  {
   "cell_type": "code",
   "execution_count": 349,
   "metadata": {},
   "outputs": [
    {
     "name": "stdout",
     "output_type": "stream",
     "text": [
      "Confusion Matrix:\n",
      "[[1425   56  119]\n",
      " [ 197  832   73]\n",
      " [ 125   31 1058]]\n"
     ]
    }
   ],
   "source": [
    "mnb_c_matrix = metrics.confusion_matrix(cv_y_val , mnb_pred)\n",
    "print('Confusion Matrix:')\n",
    "print(mnb_c_matrix)"
   ]
  },
  {
   "cell_type": "code",
   "execution_count": 420,
   "metadata": {},
   "outputs": [
    {
     "data": {
      "text/plain": [
       "([<matplotlib.axis.YTick at 0x163c8632b70>,\n",
       "  <matplotlib.axis.YTick at 0x163b9767e48>,\n",
       "  <matplotlib.axis.YTick at 0x163c862dcc0>],\n",
       " <a list of 3 Text yticklabel objects>)"
      ]
     },
     "execution_count": 420,
     "metadata": {},
     "output_type": "execute_result"
    }
   ],
   "source": [
    "mnb_im = plt.imshow(mnb_c_matrix, cmap=plt.cm.binary)\n",
    "plt.title('Multinomial Naive Bayes')\n",
    "tick_marks = np.arange(len(labels))\n",
    "plt.xticks(tick_marks, labels, rotation=45)\n",
    "plt.xlabel('classes')\n",
    "plt.ylabel('prediction')\n",
    "plt.yticks(tick_marks, labels)"
   ]
  },
  {
   "cell_type": "code",
   "execution_count": 421,
   "metadata": {},
   "outputs": [
    {
     "data": {
      "image/png": "[encoded data removed]",
      "text/plain": [
       "<matplotlib.figure.Figure at 0x163c85a49b0>"
      ]
     },
     "metadata": {},
     "output_type": "display_data"
    }
   ],
   "source": [
    "plt.show()"
   ]
  },
  {
   "cell_type": "code",
   "execution_count": 345,
   "metadata": {
    "collapsed": true
   },
   "outputs": [],
   "source": [
    "pred_prob = clf_MNB.predict_proba(t_X_val)"
   ]
  },
  {
   "cell_type": "code",
   "execution_count": 346,
   "metadata": {},
   "outputs": [
    {
     "name": "stdout",
     "output_type": "stream",
     "text": [
      "[[ 0.07514378  0.86615295  0.05870327]\n",
      " [ 0.31219762  0.19008116  0.49772122]\n",
      " [ 0.16449171  0.01150911  0.82399919]\n",
      " [ 0.03291869  0.13701727  0.83006404]\n",
      " [ 0.1499502   0.02951027  0.82053953]\n",
      " [ 0.53875149  0.1736127   0.2876358 ]\n",
      " [ 0.73375065  0.01222292  0.25402643]\n",
      " [ 0.36823394  0.16316453  0.46860153]\n",
      " [ 0.97169864  0.00690928  0.02139208]\n",
      " [ 0.96919156  0.01624223  0.01456621]]\n"
     ]
    }
   ],
   "source": [
    "print (pred_prob[:10])"
   ]
  },
  {
   "cell_type": "code",
   "execution_count": 704,
   "metadata": {
    "collapsed": true
   },
   "outputs": [],
   "source": [
    "MNB_scores = cross_val_score(clf_MNB, t_X_val, cv_y_val, cv=20)"
   ]
  },
  {
   "cell_type": "code",
   "execution_count": null,
   "metadata": {
    "collapsed": true,
    "scrolled": true
   },
   "outputs": [],
   "source": [
    "print (MNB_scores)"
   ]
  },
  {
   "cell_type": "code",
   "execution_count": 399,
   "metadata": {
    "collapsed": true
   },
   "outputs": [],
   "source": [
    "clf_xg = XGBClassifier(n_jobs=-1, booster='gblinear')"
   ]
  },
  {
   "cell_type": "code",
   "execution_count": 400,
   "metadata": {},
   "outputs": [
    {
     "data": {
      "text/plain": [
       "XGBClassifier(base_score=0.5, booster='gblinear', colsample_bylevel=1,\n",
       "       colsample_bytree=1, gamma=0, learning_rate=0.1, max_delta_step=0,\n",
       "       max_depth=3, min_child_weight=1, missing=None, n_estimators=100,\n",
       "       n_jobs=-1, nthread=None, objective='multi:softprob', random_state=0,\n",
       "       reg_alpha=0, reg_lambda=1, scale_pos_weight=1, seed=None,\n",
       "       silent=True, subsample=1)"
      ]
     },
     "execution_count": 400,
     "metadata": {},
     "output_type": "execute_result"
    }
   ],
   "source": [
    "clf_xg.fit(t_X_train, cv_y_train)"
   ]
  },
  {
   "cell_type": "code",
   "execution_count": 401,
   "metadata": {
    "collapsed": true
   },
   "outputs": [],
   "source": [
    "xg_pred = clf_xg.predict(t_X_val)"
   ]
  },
  {
   "cell_type": "code",
   "execution_count": 402,
   "metadata": {},
   "outputs": [
    {
     "name": "stdout",
     "output_type": "stream",
     "text": [
      "0.801072522983\n"
     ]
    }
   ],
   "source": [
    "print (np.mean(xg_pred == cv_y_val))"
   ]
  },
  {
   "cell_type": "code",
   "execution_count": 403,
   "metadata": {},
   "outputs": [
    {
     "name": "stdout",
     "output_type": "stream",
     "text": [
      "Confusion Matrix:\n",
      "[[1351  111  138]\n",
      " [ 184  825   93]\n",
      " [ 165   88  961]]\n"
     ]
    }
   ],
   "source": [
    "xg_c_matrix = metrics.confusion_matrix(cv_y_val , xg_pred)\n",
    "print('Confusion Matrix:')\n",
    "print(xg_c_matrix)"
   ]
  },
  {
   "cell_type": "code",
   "execution_count": 453,
   "metadata": {},
   "outputs": [
    {
     "data": {
      "image/png": "[encoded data removed]",
      "text/plain": [
       "<matplotlib.figure.Figure at 0x163cad057f0>"
      ]
     },
     "metadata": {},
     "output_type": "display_data"
    }
   ],
   "source": [
    "xg_im = plt.imshow(xg_c_matrix, cmap=plt.cm.binary)\n",
    "plt.title('XGBoost')\n",
    "tick_marks = np.arange(len(labels))\n",
    "plt.xticks(tick_marks, labels, rotation=45)\n",
    "plt.xlabel('classes')\n",
    "plt.ylabel('prediction')\n",
    "plt.yticks(tick_marks, labels)\n",
    "plt.text(0,0,'1351',\n",
    "            va='center',\n",
    "            ha='center', color='r', fontsize=15)\n",
    "plt.text(1,0,'111',\n",
    "            va='center',\n",
    "            ha='center', color='r', fontsize=15)\n",
    "plt.text(2,0,'138',\n",
    "            va='center',\n",
    "            ha='center', color='r', fontsize=15)\n",
    "plt.text(0,1,'184',\n",
    "            va='center',\n",
    "            ha='center', color='r', fontsize=15)\n",
    "plt.text(1,1,'825',\n",
    "            va='center',\n",
    "            ha='center', color='r', fontsize=15)\n",
    "plt.text(2,1,'93',\n",
    "            va='center',\n",
    "            ha='center', color='r', fontsize=15)\n",
    "plt.text(0,2,'165',\n",
    "            va='center',\n",
    "            ha='center', color='r', fontsize=15)\n",
    "plt.text(1,2,'88',\n",
    "            va='center',\n",
    "            ha='center', color='r', fontsize=15)\n",
    "plt.text(2,2,'961',\n",
    "            va='center',\n",
    "            ha='center', color='r', fontsize=15)\n",
    "plt.show()"
   ]
  },
  {
   "cell_type": "code",
   "execution_count": 18,
   "metadata": {},
   "outputs": [
    {
     "data": {
      "text/plain": [
       "array([[ 0.05373774,  0.90407157,  0.04219068],\n",
       "       [ 0.41418394,  0.20452832,  0.38128781],\n",
       "       [ 0.06382454,  0.02878018,  0.9073953 ],\n",
       "       ..., \n",
       "       [ 0.77026862,  0.14203845,  0.08769292],\n",
       "       [ 0.01324696,  0.95579177,  0.0309613 ],\n",
       "       [ 0.6523304 ,  0.18395059,  0.16371906]], dtype=float32)"
      ]
     },
     "execution_count": 18,
     "metadata": {},
     "output_type": "execute_result"
    }
   ],
   "source": [
    "clf_xg.predict_proba(t_X_val)"
   ]
  },
  {
   "cell_type": "code",
   "execution_count": null,
   "metadata": {
    "collapsed": true
   },
   "outputs": [],
   "source": [
    "xg_pred = clf_xg.predict(t_X_val)"
   ]
  },
  {
   "cell_type": "code",
   "execution_count": null,
   "metadata": {
    "collapsed": true
   },
   "outputs": [],
   "source": [
    "xg_mean = np.mean(xg_pred == cv_y_val)"
   ]
  },
  {
   "cell_type": "code",
   "execution_count": null,
   "metadata": {
    "collapsed": true
   },
   "outputs": [],
   "source": [
    "print (xg_mean)"
   ]
  },
  {
   "cell_type": "code",
   "execution_count": 23,
   "metadata": {
    "collapsed": true
   },
   "outputs": [],
   "source": []
  },
  {
   "cell_type": "code",
   "execution_count": 300,
   "metadata": {
    "collapsed": true
   },
   "outputs": [],
   "source": [
    "clf_rf = RandomForestClassifier(n_jobs=-1)"
   ]
  },
  {
   "cell_type": "code",
   "execution_count": 301,
   "metadata": {},
   "outputs": [
    {
     "data": {
      "text/plain": [
       "RandomForestClassifier(bootstrap=True, class_weight=None, criterion='gini',\n",
       "            max_depth=None, max_features='auto', max_leaf_nodes=None,\n",
       "            min_impurity_split=1e-07, min_samples_leaf=1,\n",
       "            min_samples_split=2, min_weight_fraction_leaf=0.0,\n",
       "            n_estimators=10, n_jobs=-1, oob_score=False, random_state=None,\n",
       "            verbose=0, warm_start=False)"
      ]
     },
     "execution_count": 301,
     "metadata": {},
     "output_type": "execute_result"
    }
   ],
   "source": [
    "clf_rf.fit(t_X_train, cv_y_train)"
   ]
  },
  {
   "cell_type": "code",
   "execution_count": 302,
   "metadata": {
    "collapsed": true
   },
   "outputs": [],
   "source": [
    "rf_pred = clf_rf.predict(t_X_val)"
   ]
  },
  {
   "cell_type": "code",
   "execution_count": 303,
   "metadata": {},
   "outputs": [
    {
     "name": "stdout",
     "output_type": "stream",
     "text": [
      "0.666241062308\n"
     ]
    }
   ],
   "source": [
    "print (np.mean(rf_pred == cv_y_val))"
   ]
  },
  {
   "cell_type": "code",
   "execution_count": 422,
   "metadata": {},
   "outputs": [
    {
     "name": "stdout",
     "output_type": "stream",
     "text": [
      "Confusion Matrix:\n",
      "[[1267  136  197]\n",
      " [ 384  600  118]\n",
      " [ 356  116  742]]\n"
     ]
    },
    {
     "data": {
      "image/png": "[encoded data removed]",
      "text/plain": [
       "<matplotlib.figure.Figure at 0x163c85e6470>"
      ]
     },
     "metadata": {},
     "output_type": "display_data"
    }
   ],
   "source": [
    "rf_c_matrix = metrics.confusion_matrix(cv_y_val , rf_pred)\n",
    "print('Confusion Matrix:')\n",
    "print(rf_c_matrix)\n",
    "rf_im = plt.imshow(rf_c_matrix, cmap=plt.cm.binary)\n",
    "plt.title('Random Forest')\n",
    "tick_marks = np.arange(len(labels))\n",
    "plt.xticks(tick_marks, labels, rotation=45)\n",
    "plt.xlabel('classes')\n",
    "plt.ylabel('prediction')\n",
    "plt.yticks(tick_marks, labels)\n",
    "plt.show()"
   ]
  },
  {
   "cell_type": "code",
   "execution_count": 583,
   "metadata": {},
   "outputs": [
    {
     "data": {
      "text/plain": [
       "array([[ 0.5,  0.3,  0.2],\n",
       "       [ 0.5,  0. ,  0.5],\n",
       "       [ 0.7,  0. ,  0.3],\n",
       "       ..., \n",
       "       [ 0.1,  0.2,  0.7],\n",
       "       [ 0.5,  0.1,  0.4],\n",
       "       [ 0.4,  0.2,  0.4]])"
      ]
     },
     "execution_count": 583,
     "metadata": {},
     "output_type": "execute_result"
    }
   ],
   "source": [
    "clf_rf.predict_proba(t_X_val)"
   ]
  },
  {
   "cell_type": "code",
   "execution_count": null,
   "metadata": {
    "collapsed": true
   },
   "outputs": [],
   "source": [
    "rf_pred = clf_rf.predict(t_X_val)"
   ]
  },
  {
   "cell_type": "code",
   "execution_count": null,
   "metadata": {
    "collapsed": true
   },
   "outputs": [],
   "source": [
    "rf_mean = np.mean(rf_pred == cv_y_val)\n",
    "print (rf_mean)"
   ]
  },
  {
   "cell_type": "code",
   "execution_count": 405,
   "metadata": {},
   "outputs": [
    {
     "name": "stdout",
     "output_type": "stream",
     "text": [
      "['EAP']\n",
      "['HPL']\n",
      "['MWS']\n"
     ]
    }
   ],
   "source": [
    "print (le.inverse_transform([0]))\n",
    "print (le.inverse_transform([1]))\n",
    "print (le.inverse_transform([2]))"
   ]
  },
  {
   "cell_type": "code",
   "execution_count": 153,
   "metadata": {
    "collapsed": true
   },
   "outputs": [],
   "source": []
  },
  {
   "cell_type": "code",
   "execution_count": 304,
   "metadata": {
    "collapsed": true
   },
   "outputs": [],
   "source": [
    "clf_svc = SVC(kernel='linear', C=1, cache_size=10000)"
   ]
  },
  {
   "cell_type": "code",
   "execution_count": 305,
   "metadata": {},
   "outputs": [
    {
     "data": {
      "text/plain": [
       "SVC(C=1, cache_size=10000, class_weight=None, coef0=0.0,\n",
       "  decision_function_shape=None, degree=3, gamma='auto', kernel='linear',\n",
       "  max_iter=-1, probability=False, random_state=None, shrinking=True,\n",
       "  tol=0.001, verbose=False)"
      ]
     },
     "execution_count": 305,
     "metadata": {},
     "output_type": "execute_result"
    }
   ],
   "source": [
    "clf_svc.fit(t_X_train, cv_y_train)"
   ]
  },
  {
   "cell_type": "code",
   "execution_count": 306,
   "metadata": {
    "collapsed": true
   },
   "outputs": [],
   "source": [
    "scv_pred = clf_svc.predict(t_X_val)"
   ]
  },
  {
   "cell_type": "code",
   "execution_count": 307,
   "metadata": {},
   "outputs": [
    {
     "name": "stdout",
     "output_type": "stream",
     "text": [
      "0.803626149132\n"
     ]
    }
   ],
   "source": [
    "svc_mean = np.mean(scv_pred == cv_y_val)\n",
    "print (svc_mean)"
   ]
  },
  {
   "cell_type": "code",
   "execution_count": 406,
   "metadata": {},
   "outputs": [
    {
     "name": "stdout",
     "output_type": "stream",
     "text": [
      "Confusion Matrix:\n",
      "[[1285  147  168]\n",
      " [ 157  861   84]\n",
      " [ 137   76 1001]]\n"
     ]
    }
   ],
   "source": [
    "svc_c_matrix = metrics.confusion_matrix(cv_y_val , scv_pred)\n",
    "print('Confusion Matrix:')\n",
    "print(svc_c_matrix)"
   ]
  },
  {
   "cell_type": "code",
   "execution_count": 407,
   "metadata": {},
   "outputs": [
    {
     "data": {
      "image/png": "[encoded data removed]",
      "text/plain": [
       "<matplotlib.figure.Figure at 0x163c72a1da0>"
      ]
     },
     "metadata": {},
     "output_type": "display_data"
    }
   ],
   "source": [
    "svc_im = plt.imshow(svc_c_matrix, cmap=plt.cm.binary)\n",
    "plt.title('SVC')\n",
    "tick_marks = np.arange(len(labels))\n",
    "plt.xticks(tick_marks, labels, rotation=45)\n",
    "plt.xlabel('classes')\n",
    "plt.ylabel('prediction')\n",
    "plt.yticks(tick_marks, labels)\n",
    "plt.show()"
   ]
  },
  {
   "cell_type": "code",
   "execution_count": 310,
   "metadata": {
    "collapsed": true
   },
   "outputs": [],
   "source": [
    "svc_clf = SVC(kernel='linear', C=1, cache_size=10000)"
   ]
  },
  {
   "cell_type": "code",
   "execution_count": 311,
   "metadata": {
    "collapsed": true
   },
   "outputs": [],
   "source": [
    "clf_gs = GridSearchCV(svc_clf, n_jobs=-1, param_grid={'C':[1]})"
   ]
  },
  {
   "cell_type": "code",
   "execution_count": 312,
   "metadata": {},
   "outputs": [
    {
     "data": {
      "text/plain": [
       "GridSearchCV(cv=None, error_score='raise',\n",
       "       estimator=SVC(C=1, cache_size=10000, class_weight=None, coef0=0.0,\n",
       "  decision_function_shape=None, degree=3, gamma='auto', kernel='linear',\n",
       "  max_iter=-1, probability=False, random_state=None, shrinking=True,\n",
       "  tol=0.001, verbose=False),\n",
       "       fit_params={}, iid=True, n_jobs=-1, param_grid={'C': [1]},\n",
       "       pre_dispatch='2*n_jobs', refit=True, return_train_score=True,\n",
       "       scoring=None, verbose=0)"
      ]
     },
     "execution_count": 312,
     "metadata": {},
     "output_type": "execute_result"
    }
   ],
   "source": [
    "clf_gs.fit(t_X_train, cv_y_train)"
   ]
  },
  {
   "cell_type": "code",
   "execution_count": 313,
   "metadata": {
    "collapsed": true
   },
   "outputs": [],
   "source": [
    "gs_pred = clf_gs.predict(t_X_val)"
   ]
  },
  {
   "cell_type": "code",
   "execution_count": 314,
   "metadata": {},
   "outputs": [
    {
     "name": "stdout",
     "output_type": "stream",
     "text": [
      "0.803626149132\n"
     ]
    }
   ],
   "source": [
    "gs_mean = np.mean(gs_pred == cv_y_val)\n",
    "print (gs_mean)"
   ]
  },
  {
   "cell_type": "code",
   "execution_count": 408,
   "metadata": {},
   "outputs": [
    {
     "name": "stdout",
     "output_type": "stream",
     "text": [
      "Confusion Matrix:\n",
      "[[1285  147  168]\n",
      " [ 157  861   84]\n",
      " [ 137   76 1001]]\n"
     ]
    },
    {
     "data": {
      "image/png": "[encoded data removed]",
      "text/plain": [
       "<matplotlib.figure.Figure at 0x163c72c8358>"
      ]
     },
     "metadata": {},
     "output_type": "display_data"
    }
   ],
   "source": [
    "gs_c_matrix = metrics.confusion_matrix(cv_y_val , gs_pred)\n",
    "print('Confusion Matrix:')\n",
    "print(gs_c_matrix)\n",
    "gs_im = plt.imshow(svc_c_matrix, cmap=plt.cm.binary)\n",
    "plt.title('GridSearchCV')\n",
    "tick_marks = np.arange(len(labels))\n",
    "plt.xticks(tick_marks, labels, rotation=45)\n",
    "plt.xlabel('classes')\n",
    "plt.ylabel('prediction')\n",
    "plt.yticks(tick_marks, labels)\n",
    "plt.show()"
   ]
  },
  {
   "cell_type": "code",
   "execution_count": 742,
   "metadata": {
    "collapsed": true
   },
   "outputs": [
    {
     "data": {
      "text/plain": [
       "{'mean_fit_time': array([ 53.60824831,  51.02762882]),\n",
       " 'mean_score_time': array([ 18.35901403,  17.42720675]),\n",
       " 'mean_test_score': array([ 0.80693354,  0.80323054]),\n",
       " 'mean_train_score': array([ 0.95514908,  0.98068697]),\n",
       " 'param_C': masked_array(data = [1 2],\n",
       "              mask = [False False],\n",
       "        fill_value = ?),\n",
       " 'params': ({'C': 1}, {'C': 2}),\n",
       " 'rank_test_score': array([1, 2]),\n",
       " 'split0_test_score': array([ 0.80846581,  0.80176211]),\n",
       " 'split0_train_score': array([ 0.9548937 ,  0.98190002]),\n",
       " 'split1_test_score': array([ 0.80712507,  0.8050182 ]),\n",
       " 'split1_train_score': array([ 0.95537253,  0.98170848]),\n",
       " 'split2_test_score': array([ 0.80520973,  0.80291132]),\n",
       " 'split2_train_score': array([ 0.955181 ,  0.9784524]),\n",
       " 'std_fit_time': array([ 1.7391588 ,  1.13223596]),\n",
       " 'std_score_time': array([ 0.4815225 ,  0.50111376]),\n",
       " 'std_test_score': array([ 0.00133617,  0.00134832]),\n",
       " 'std_train_score': array([ 0.00019678,  0.00158201])}"
      ]
     },
     "execution_count": 742,
     "metadata": {},
     "output_type": "execute_result"
    }
   ],
   "source": [
    "clf_gs.cv_results_"
   ]
  },
  {
   "cell_type": "code",
   "execution_count": 98,
   "metadata": {
    "collapsed": true
   },
   "outputs": [],
   "source": []
  },
  {
   "cell_type": "code",
   "execution_count": 411,
   "metadata": {
    "collapsed": true
   },
   "outputs": [],
   "source": [
    "clf_dt = tree.DecisionTreeClassifier(criterion='entropy',max_depth=10)"
   ]
  },
  {
   "cell_type": "code",
   "execution_count": 412,
   "metadata": {},
   "outputs": [
    {
     "data": {
      "text/plain": [
       "DecisionTreeClassifier(class_weight=None, criterion='entropy', max_depth=10,\n",
       "            max_features=None, max_leaf_nodes=None,\n",
       "            min_impurity_split=1e-07, min_samples_leaf=1,\n",
       "            min_samples_split=2, min_weight_fraction_leaf=0.0,\n",
       "            presort=False, random_state=None, splitter='best')"
      ]
     },
     "execution_count": 412,
     "metadata": {},
     "output_type": "execute_result"
    }
   ],
   "source": [
    "clf_dt.fit(t_X_train, cv_y_train)"
   ]
  },
  {
   "cell_type": "code",
   "execution_count": 413,
   "metadata": {
    "collapsed": true
   },
   "outputs": [],
   "source": [
    "dt_pred = clf_dt.predict(t_X_val)"
   ]
  },
  {
   "cell_type": "code",
   "execution_count": 414,
   "metadata": {},
   "outputs": [
    {
     "name": "stdout",
     "output_type": "stream",
     "text": [
      "0.526046986721\n"
     ]
    }
   ],
   "source": [
    "dt_mean = np.mean(dt_pred == cv_y_val)\n",
    "print (dt_mean)"
   ]
  },
  {
   "cell_type": "code",
   "execution_count": 415,
   "metadata": {},
   "outputs": [
    {
     "name": "stdout",
     "output_type": "stream",
     "text": [
      "Confusion Matrix:\n",
      "[[835 489 276]\n",
      " [275 686 141]\n",
      " [304 371 539]]\n"
     ]
    },
    {
     "data": {
      "image/png": "[encoded data removed]",
      "text/plain": [
       "<matplotlib.figure.Figure at 0x163c8537278>"
      ]
     },
     "metadata": {},
     "output_type": "display_data"
    }
   ],
   "source": [
    "dt_c_matrix = metrics.confusion_matrix(cv_y_val , dt_pred)\n",
    "print('Confusion Matrix:')\n",
    "print(dt_c_matrix)\n",
    "dt_im = plt.imshow(dt_c_matrix, cmap=plt.cm.binary)\n",
    "plt.title('Decision Tree')\n",
    "tick_marks = np.arange(len(labels))\n",
    "plt.xticks(tick_marks, labels, rotation=45)\n",
    "plt.xlabel('classes')\n",
    "plt.ylabel('prediction')\n",
    "plt.yticks(tick_marks, labels)\n",
    "plt.show()"
   ]
  },
  {
   "cell_type": "code",
   "execution_count": 327,
   "metadata": {
    "collapsed": true
   },
   "outputs": [],
   "source": [
    "ada_clf = AdaBoostClassifier(clf_dt, n_estimators=200)"
   ]
  },
  {
   "cell_type": "code",
   "execution_count": 328,
   "metadata": {},
   "outputs": [
    {
     "data": {
      "text/plain": [
       "AdaBoostClassifier(algorithm='SAMME.R',\n",
       "          base_estimator=DecisionTreeClassifier(class_weight=None, criterion='entropy', max_depth=6,\n",
       "            max_features=None, max_leaf_nodes=None,\n",
       "            min_impurity_split=1e-07, min_samples_leaf=1,\n",
       "            min_samples_split=2, min_weight_fraction_leaf=0.0,\n",
       "            presort=False, random_state=None, splitter='best'),\n",
       "          learning_rate=1.0, n_estimators=200, random_state=None)"
      ]
     },
     "execution_count": 328,
     "metadata": {},
     "output_type": "execute_result"
    }
   ],
   "source": [
    "ada_clf.fit(t_X_train, cv_y_train)"
   ]
  },
  {
   "cell_type": "code",
   "execution_count": 329,
   "metadata": {
    "collapsed": true
   },
   "outputs": [],
   "source": [
    "ada_pred = ada_clf.predict(t_X_val)"
   ]
  },
  {
   "cell_type": "code",
   "execution_count": 330,
   "metadata": {},
   "outputs": [
    {
     "name": "stdout",
     "output_type": "stream",
     "text": [
      "0.61746680286\n"
     ]
    }
   ],
   "source": [
    "ada_mean = np.mean(ada_pred == cv_y_val)\n",
    "print (ada_mean)"
   ]
  },
  {
   "cell_type": "code",
   "execution_count": 450,
   "metadata": {},
   "outputs": [
    {
     "name": "stdout",
     "output_type": "stream",
     "text": [
      "Confusion Matrix:\n",
      "[[1132  152  316]\n",
      " [ 400  513  189]\n",
      " [ 359   82  773]]\n"
     ]
    },
    {
     "data": {
      "image/png": "[encoded data removed]",
      "text/plain": [
       "<matplotlib.figure.Figure at 0x163cabda5f8>"
      ]
     },
     "metadata": {},
     "output_type": "display_data"
    }
   ],
   "source": [
    "ada_c_matrix = metrics.confusion_matrix(cv_y_val , ada_pred)\n",
    "print('Confusion Matrix:')\n",
    "print(ada_c_matrix)\n",
    "ada_im = plt.imshow(ada_c_matrix, cmap=plt.cm.binary)\n",
    "plt.title('AdaBoost with Decision Tree')\n",
    "tick_marks = np.arange(len(labels))\n",
    "plt.xticks(tick_marks, labels, rotation=45)\n",
    "plt.xlabel('classes')\n",
    "plt.ylabel('prediction')\n",
    "plt.yticks(tick_marks, labels)\n",
    "plt.text(0,0,'1132',\n",
    "            va='center',\n",
    "            ha='center', color='r', fontsize=15)\n",
    "plt.text(1,0,'152',\n",
    "            va='center',\n",
    "            ha='center', color='r', fontsize=15)\n",
    "plt.text(2,0,'152',\n",
    "            va='center',\n",
    "            ha='center', color='r', fontsize=15)\n",
    "plt.show()"
   ]
  },
  {
   "cell_type": "code",
   "execution_count": 176,
   "metadata": {},
   "outputs": [
    {
     "name": "stdout",
     "output_type": "stream",
     "text": [
      "before clf\n",
      "Fitting time:\n"
     ]
    },
    {
     "data": {
      "text/plain": [
       "(None, 0.0, 's')"
      ]
     },
     "execution_count": 176,
     "metadata": {},
     "output_type": "execute_result"
    }
   ],
   "source": [
    "\n",
    "print ('before clf')\n",
    "t0 = time()\n",
    "\n",
    "print (\"Fitting time:\"), round(time()-t0, 3), \"s\""
   ]
  },
  {
   "cell_type": "code",
   "execution_count": null,
   "metadata": {
    "collapsed": true
   },
   "outputs": [],
   "source": []
  },
  {
   "cell_type": "code",
   "execution_count": null,
   "metadata": {
    "collapsed": true
   },
   "outputs": [],
   "source": []
  }
 ],
 "metadata": {
  "kernelspec": {
   "display_name": "Python 3",
   "language": "python",
   "name": "python3"
  },
  "language_info": {
   "codemirror_mode": {
    "name": "ipython",
    "version": 3
   },
   "file_extension": ".py",
   "mimetype": "text/x-python",
   "name": "python",
   "nbconvert_exporter": "python",
   "pygments_lexer": "ipython3",
   "version": "3.6.1"
  }
 },
 "nbformat": 4,
 "nbformat_minor": 2
}
